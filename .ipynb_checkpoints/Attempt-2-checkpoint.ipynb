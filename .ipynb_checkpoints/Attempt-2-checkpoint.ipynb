{
 "cells": [
  {
   "cell_type": "code",
   "execution_count": 39,
   "id": "37a93a83",
   "metadata": {},
   "outputs": [],
   "source": [
    "import pandas as pd\n",
    "import numpy as np\n",
    "import seaborn as sns"
   ]
  },
  {
   "cell_type": "code",
   "execution_count": 40,
   "id": "0c41e0a6",
   "metadata": {},
   "outputs": [],
   "source": [
    "train = pd.read_csv('train.csv')\n",
    "test = pd.read_csv('test.csv')"
   ]
  },
  {
   "cell_type": "code",
   "execution_count": 41,
   "id": "9a68934b",
   "metadata": {},
   "outputs": [
    {
     "data": {
      "text/plain": [
       "(8693, 14)"
      ]
     },
     "execution_count": 41,
     "metadata": {},
     "output_type": "execute_result"
    }
   ],
   "source": [
    "train.shape"
   ]
  },
  {
   "cell_type": "code",
   "execution_count": 42,
   "id": "6abd052f",
   "metadata": {},
   "outputs": [
    {
     "data": {
      "text/plain": [
       "(4277, 13)"
      ]
     },
     "execution_count": 42,
     "metadata": {},
     "output_type": "execute_result"
    }
   ],
   "source": [
    "test.shape"
   ]
  },
  {
   "cell_type": "code",
   "execution_count": 43,
   "id": "bcc07ce2",
   "metadata": {},
   "outputs": [
    {
     "data": {
      "text/plain": [
       "PassengerId       0\n",
       "HomePlanet      201\n",
       "CryoSleep       217\n",
       "Cabin           199\n",
       "Destination     182\n",
       "Age             179\n",
       "VIP             203\n",
       "RoomService     181\n",
       "FoodCourt       183\n",
       "ShoppingMall    208\n",
       "Spa             183\n",
       "VRDeck          188\n",
       "Name            200\n",
       "Transported       0\n",
       "dtype: int64"
      ]
     },
     "execution_count": 43,
     "metadata": {},
     "output_type": "execute_result"
    }
   ],
   "source": [
    "train.isnull().sum()"
   ]
  },
  {
   "cell_type": "code",
   "execution_count": 44,
   "id": "b847ab3f",
   "metadata": {},
   "outputs": [
    {
     "data": {
      "text/plain": [
       "PassengerId       0\n",
       "HomePlanet       87\n",
       "CryoSleep        93\n",
       "Cabin           100\n",
       "Destination      92\n",
       "Age              91\n",
       "VIP              93\n",
       "RoomService      82\n",
       "FoodCourt       106\n",
       "ShoppingMall     98\n",
       "Spa             101\n",
       "VRDeck           80\n",
       "Name             94\n",
       "dtype: int64"
      ]
     },
     "execution_count": 44,
     "metadata": {},
     "output_type": "execute_result"
    }
   ],
   "source": [
    "test.isnull().sum()"
   ]
  },
  {
   "cell_type": "code",
   "execution_count": 45,
   "id": "96ab32ce",
   "metadata": {},
   "outputs": [
    {
     "data": {
      "text/html": [
       "<div>\n",
       "<style scoped>\n",
       "    .dataframe tbody tr th:only-of-type {\n",
       "        vertical-align: middle;\n",
       "    }\n",
       "\n",
       "    .dataframe tbody tr th {\n",
       "        vertical-align: top;\n",
       "    }\n",
       "\n",
       "    .dataframe thead th {\n",
       "        text-align: right;\n",
       "    }\n",
       "</style>\n",
       "<table border=\"1\" class=\"dataframe\">\n",
       "  <thead>\n",
       "    <tr style=\"text-align: right;\">\n",
       "      <th></th>\n",
       "      <th>PassengerId</th>\n",
       "      <th>HomePlanet</th>\n",
       "      <th>CryoSleep</th>\n",
       "      <th>Cabin</th>\n",
       "      <th>Destination</th>\n",
       "      <th>Age</th>\n",
       "      <th>VIP</th>\n",
       "      <th>RoomService</th>\n",
       "      <th>FoodCourt</th>\n",
       "      <th>ShoppingMall</th>\n",
       "      <th>Spa</th>\n",
       "      <th>VRDeck</th>\n",
       "      <th>Name</th>\n",
       "      <th>Transported</th>\n",
       "    </tr>\n",
       "  </thead>\n",
       "  <tbody>\n",
       "    <tr>\n",
       "      <th>0</th>\n",
       "      <td>0001_01</td>\n",
       "      <td>Europa</td>\n",
       "      <td>False</td>\n",
       "      <td>B/0/P</td>\n",
       "      <td>TRAPPIST-1e</td>\n",
       "      <td>39.0</td>\n",
       "      <td>False</td>\n",
       "      <td>0.0</td>\n",
       "      <td>0.0</td>\n",
       "      <td>0.0</td>\n",
       "      <td>0.0</td>\n",
       "      <td>0.0</td>\n",
       "      <td>Maham Ofracculy</td>\n",
       "      <td>False</td>\n",
       "    </tr>\n",
       "    <tr>\n",
       "      <th>1</th>\n",
       "      <td>0002_01</td>\n",
       "      <td>Earth</td>\n",
       "      <td>False</td>\n",
       "      <td>F/0/S</td>\n",
       "      <td>TRAPPIST-1e</td>\n",
       "      <td>24.0</td>\n",
       "      <td>False</td>\n",
       "      <td>109.0</td>\n",
       "      <td>9.0</td>\n",
       "      <td>25.0</td>\n",
       "      <td>549.0</td>\n",
       "      <td>44.0</td>\n",
       "      <td>Juanna Vines</td>\n",
       "      <td>True</td>\n",
       "    </tr>\n",
       "    <tr>\n",
       "      <th>2</th>\n",
       "      <td>0003_01</td>\n",
       "      <td>Europa</td>\n",
       "      <td>False</td>\n",
       "      <td>A/0/S</td>\n",
       "      <td>TRAPPIST-1e</td>\n",
       "      <td>58.0</td>\n",
       "      <td>True</td>\n",
       "      <td>43.0</td>\n",
       "      <td>3576.0</td>\n",
       "      <td>0.0</td>\n",
       "      <td>6715.0</td>\n",
       "      <td>49.0</td>\n",
       "      <td>Altark Susent</td>\n",
       "      <td>False</td>\n",
       "    </tr>\n",
       "    <tr>\n",
       "      <th>3</th>\n",
       "      <td>0003_02</td>\n",
       "      <td>Europa</td>\n",
       "      <td>False</td>\n",
       "      <td>A/0/S</td>\n",
       "      <td>TRAPPIST-1e</td>\n",
       "      <td>33.0</td>\n",
       "      <td>False</td>\n",
       "      <td>0.0</td>\n",
       "      <td>1283.0</td>\n",
       "      <td>371.0</td>\n",
       "      <td>3329.0</td>\n",
       "      <td>193.0</td>\n",
       "      <td>Solam Susent</td>\n",
       "      <td>False</td>\n",
       "    </tr>\n",
       "    <tr>\n",
       "      <th>4</th>\n",
       "      <td>0004_01</td>\n",
       "      <td>Earth</td>\n",
       "      <td>False</td>\n",
       "      <td>F/1/S</td>\n",
       "      <td>TRAPPIST-1e</td>\n",
       "      <td>16.0</td>\n",
       "      <td>False</td>\n",
       "      <td>303.0</td>\n",
       "      <td>70.0</td>\n",
       "      <td>151.0</td>\n",
       "      <td>565.0</td>\n",
       "      <td>2.0</td>\n",
       "      <td>Willy Santantines</td>\n",
       "      <td>True</td>\n",
       "    </tr>\n",
       "  </tbody>\n",
       "</table>\n",
       "</div>"
      ],
      "text/plain": [
       "  PassengerId HomePlanet CryoSleep  Cabin  Destination   Age    VIP  \\\n",
       "0     0001_01     Europa     False  B/0/P  TRAPPIST-1e  39.0  False   \n",
       "1     0002_01      Earth     False  F/0/S  TRAPPIST-1e  24.0  False   \n",
       "2     0003_01     Europa     False  A/0/S  TRAPPIST-1e  58.0   True   \n",
       "3     0003_02     Europa     False  A/0/S  TRAPPIST-1e  33.0  False   \n",
       "4     0004_01      Earth     False  F/1/S  TRAPPIST-1e  16.0  False   \n",
       "\n",
       "   RoomService  FoodCourt  ShoppingMall     Spa  VRDeck               Name  \\\n",
       "0          0.0        0.0           0.0     0.0     0.0    Maham Ofracculy   \n",
       "1        109.0        9.0          25.0   549.0    44.0       Juanna Vines   \n",
       "2         43.0     3576.0           0.0  6715.0    49.0      Altark Susent   \n",
       "3          0.0     1283.0         371.0  3329.0   193.0       Solam Susent   \n",
       "4        303.0       70.0         151.0   565.0     2.0  Willy Santantines   \n",
       "\n",
       "   Transported  \n",
       "0        False  \n",
       "1         True  \n",
       "2        False  \n",
       "3        False  \n",
       "4         True  "
      ]
     },
     "execution_count": 45,
     "metadata": {},
     "output_type": "execute_result"
    }
   ],
   "source": [
    "train.head()"
   ]
  },
  {
   "cell_type": "code",
   "execution_count": 46,
   "id": "d2e0debb",
   "metadata": {},
   "outputs": [
    {
     "data": {
      "text/html": [
       "<div>\n",
       "<style scoped>\n",
       "    .dataframe tbody tr th:only-of-type {\n",
       "        vertical-align: middle;\n",
       "    }\n",
       "\n",
       "    .dataframe tbody tr th {\n",
       "        vertical-align: top;\n",
       "    }\n",
       "\n",
       "    .dataframe thead th {\n",
       "        text-align: right;\n",
       "    }\n",
       "</style>\n",
       "<table border=\"1\" class=\"dataframe\">\n",
       "  <thead>\n",
       "    <tr style=\"text-align: right;\">\n",
       "      <th></th>\n",
       "      <th>PassengerId</th>\n",
       "      <th>HomePlanet</th>\n",
       "      <th>CryoSleep</th>\n",
       "      <th>Cabin</th>\n",
       "      <th>Destination</th>\n",
       "      <th>Age</th>\n",
       "      <th>VIP</th>\n",
       "      <th>RoomService</th>\n",
       "      <th>FoodCourt</th>\n",
       "      <th>ShoppingMall</th>\n",
       "      <th>Spa</th>\n",
       "      <th>VRDeck</th>\n",
       "      <th>Name</th>\n",
       "    </tr>\n",
       "  </thead>\n",
       "  <tbody>\n",
       "    <tr>\n",
       "      <th>0</th>\n",
       "      <td>0013_01</td>\n",
       "      <td>Earth</td>\n",
       "      <td>True</td>\n",
       "      <td>G/3/S</td>\n",
       "      <td>TRAPPIST-1e</td>\n",
       "      <td>27.0</td>\n",
       "      <td>False</td>\n",
       "      <td>0.0</td>\n",
       "      <td>0.0</td>\n",
       "      <td>0.0</td>\n",
       "      <td>0.0</td>\n",
       "      <td>0.0</td>\n",
       "      <td>Nelly Carsoning</td>\n",
       "    </tr>\n",
       "    <tr>\n",
       "      <th>1</th>\n",
       "      <td>0018_01</td>\n",
       "      <td>Earth</td>\n",
       "      <td>False</td>\n",
       "      <td>F/4/S</td>\n",
       "      <td>TRAPPIST-1e</td>\n",
       "      <td>19.0</td>\n",
       "      <td>False</td>\n",
       "      <td>0.0</td>\n",
       "      <td>9.0</td>\n",
       "      <td>0.0</td>\n",
       "      <td>2823.0</td>\n",
       "      <td>0.0</td>\n",
       "      <td>Lerome Peckers</td>\n",
       "    </tr>\n",
       "    <tr>\n",
       "      <th>2</th>\n",
       "      <td>0019_01</td>\n",
       "      <td>Europa</td>\n",
       "      <td>True</td>\n",
       "      <td>C/0/S</td>\n",
       "      <td>55 Cancri e</td>\n",
       "      <td>31.0</td>\n",
       "      <td>False</td>\n",
       "      <td>0.0</td>\n",
       "      <td>0.0</td>\n",
       "      <td>0.0</td>\n",
       "      <td>0.0</td>\n",
       "      <td>0.0</td>\n",
       "      <td>Sabih Unhearfus</td>\n",
       "    </tr>\n",
       "    <tr>\n",
       "      <th>3</th>\n",
       "      <td>0021_01</td>\n",
       "      <td>Europa</td>\n",
       "      <td>False</td>\n",
       "      <td>C/1/S</td>\n",
       "      <td>TRAPPIST-1e</td>\n",
       "      <td>38.0</td>\n",
       "      <td>False</td>\n",
       "      <td>0.0</td>\n",
       "      <td>6652.0</td>\n",
       "      <td>0.0</td>\n",
       "      <td>181.0</td>\n",
       "      <td>585.0</td>\n",
       "      <td>Meratz Caltilter</td>\n",
       "    </tr>\n",
       "    <tr>\n",
       "      <th>4</th>\n",
       "      <td>0023_01</td>\n",
       "      <td>Earth</td>\n",
       "      <td>False</td>\n",
       "      <td>F/5/S</td>\n",
       "      <td>TRAPPIST-1e</td>\n",
       "      <td>20.0</td>\n",
       "      <td>False</td>\n",
       "      <td>10.0</td>\n",
       "      <td>0.0</td>\n",
       "      <td>635.0</td>\n",
       "      <td>0.0</td>\n",
       "      <td>0.0</td>\n",
       "      <td>Brence Harperez</td>\n",
       "    </tr>\n",
       "  </tbody>\n",
       "</table>\n",
       "</div>"
      ],
      "text/plain": [
       "  PassengerId HomePlanet CryoSleep  Cabin  Destination   Age    VIP  \\\n",
       "0     0013_01      Earth      True  G/3/S  TRAPPIST-1e  27.0  False   \n",
       "1     0018_01      Earth     False  F/4/S  TRAPPIST-1e  19.0  False   \n",
       "2     0019_01     Europa      True  C/0/S  55 Cancri e  31.0  False   \n",
       "3     0021_01     Europa     False  C/1/S  TRAPPIST-1e  38.0  False   \n",
       "4     0023_01      Earth     False  F/5/S  TRAPPIST-1e  20.0  False   \n",
       "\n",
       "   RoomService  FoodCourt  ShoppingMall     Spa  VRDeck              Name  \n",
       "0          0.0        0.0           0.0     0.0     0.0   Nelly Carsoning  \n",
       "1          0.0        9.0           0.0  2823.0     0.0    Lerome Peckers  \n",
       "2          0.0        0.0           0.0     0.0     0.0   Sabih Unhearfus  \n",
       "3          0.0     6652.0           0.0   181.0   585.0  Meratz Caltilter  \n",
       "4         10.0        0.0         635.0     0.0     0.0   Brence Harperez  "
      ]
     },
     "execution_count": 46,
     "metadata": {},
     "output_type": "execute_result"
    }
   ],
   "source": [
    "test.head()"
   ]
  },
  {
   "cell_type": "code",
   "execution_count": 47,
   "id": "3a9ad190",
   "metadata": {},
   "outputs": [],
   "source": [
    "train.drop('Name',axis=1,inplace=True)\n",
    "test.drop('Name',axis=1,inplace=True)"
   ]
  },
  {
   "cell_type": "code",
   "execution_count": 48,
   "id": "b6b782e6",
   "metadata": {},
   "outputs": [
    {
     "data": {
      "text/plain": [
       "Earth     4602\n",
       "Europa    2131\n",
       "Mars      1759\n",
       "Name: HomePlanet, dtype: int64"
      ]
     },
     "execution_count": 48,
     "metadata": {},
     "output_type": "execute_result"
    }
   ],
   "source": [
    "train['HomePlanet'].value_counts()"
   ]
  },
  {
   "cell_type": "code",
   "execution_count": 49,
   "id": "4bfeeee2",
   "metadata": {},
   "outputs": [
    {
     "data": {
      "text/plain": [
       "Earth     2263\n",
       "Europa    1002\n",
       "Mars       925\n",
       "Name: HomePlanet, dtype: int64"
      ]
     },
     "execution_count": 49,
     "metadata": {},
     "output_type": "execute_result"
    }
   ],
   "source": [
    "test['HomePlanet'].value_counts()"
   ]
  },
  {
   "cell_type": "code",
   "execution_count": 50,
   "id": "b26550a6",
   "metadata": {},
   "outputs": [
    {
     "data": {
      "text/plain": [
       "False    5439\n",
       "True     3037\n",
       "Name: CryoSleep, dtype: int64"
      ]
     },
     "execution_count": 50,
     "metadata": {},
     "output_type": "execute_result"
    }
   ],
   "source": [
    "train['CryoSleep'].value_counts()"
   ]
  },
  {
   "cell_type": "code",
   "execution_count": 51,
   "id": "60a242c8",
   "metadata": {},
   "outputs": [
    {
     "data": {
      "text/plain": [
       "False    2640\n",
       "True     1544\n",
       "Name: CryoSleep, dtype: int64"
      ]
     },
     "execution_count": 51,
     "metadata": {},
     "output_type": "execute_result"
    }
   ],
   "source": [
    "test['CryoSleep'].value_counts()"
   ]
  },
  {
   "cell_type": "code",
   "execution_count": 52,
   "id": "fd82b732",
   "metadata": {},
   "outputs": [
    {
     "data": {
      "text/plain": [
       "TRAPPIST-1e      5915\n",
       "55 Cancri e      1800\n",
       "PSO J318.5-22     796\n",
       "Name: Destination, dtype: int64"
      ]
     },
     "execution_count": 52,
     "metadata": {},
     "output_type": "execute_result"
    }
   ],
   "source": [
    "train['Destination'].value_counts()"
   ]
  },
  {
   "cell_type": "code",
   "execution_count": 53,
   "id": "63e57e49",
   "metadata": {},
   "outputs": [
    {
     "data": {
      "text/plain": [
       "False    8291\n",
       "True      199\n",
       "Name: VIP, dtype: int64"
      ]
     },
     "execution_count": 53,
     "metadata": {},
     "output_type": "execute_result"
    }
   ],
   "source": [
    "train['VIP'].value_counts()"
   ]
  },
  {
   "cell_type": "markdown",
   "id": "716460ab",
   "metadata": {},
   "source": [
    "## Outliers in Age"
   ]
  },
  {
   "cell_type": "code",
   "execution_count": 54,
   "id": "6ea48336",
   "metadata": {},
   "outputs": [
    {
     "data": {
      "text/plain": [
       "79.0"
      ]
     },
     "execution_count": 54,
     "metadata": {},
     "output_type": "execute_result"
    }
   ],
   "source": [
    "train['Age'].max()"
   ]
  },
  {
   "cell_type": "code",
   "execution_count": 55,
   "id": "2a26dc44",
   "metadata": {},
   "outputs": [
    {
     "data": {
      "text/plain": [
       "0.0"
      ]
     },
     "execution_count": 55,
     "metadata": {},
     "output_type": "execute_result"
    }
   ],
   "source": [
    "train['Age'].min()"
   ]
  },
  {
   "cell_type": "code",
   "execution_count": 56,
   "id": "83152c5c",
   "metadata": {},
   "outputs": [
    {
     "data": {
      "text/plain": [
       "79.0"
      ]
     },
     "execution_count": 56,
     "metadata": {},
     "output_type": "execute_result"
    }
   ],
   "source": [
    "test['Age'].max()"
   ]
  },
  {
   "cell_type": "code",
   "execution_count": 57,
   "id": "dcc092de",
   "metadata": {},
   "outputs": [
    {
     "data": {
      "text/plain": [
       "0.0"
      ]
     },
     "execution_count": 57,
     "metadata": {},
     "output_type": "execute_result"
    }
   ],
   "source": [
    "test['Age'].min()"
   ]
  },
  {
   "cell_type": "code",
   "execution_count": 58,
   "id": "4352c7c2",
   "metadata": {},
   "outputs": [
    {
     "data": {
      "text/plain": [
       "count    8514.000000\n",
       "mean       28.827930\n",
       "std        14.489021\n",
       "min         0.000000\n",
       "25%        19.000000\n",
       "50%        27.000000\n",
       "75%        38.000000\n",
       "max        79.000000\n",
       "Name: Age, dtype: float64"
      ]
     },
     "execution_count": 58,
     "metadata": {},
     "output_type": "execute_result"
    }
   ],
   "source": [
    "train['Age'].describe()"
   ]
  },
  {
   "cell_type": "code",
   "execution_count": 59,
   "id": "d73ffd2c",
   "metadata": {},
   "outputs": [],
   "source": [
    "percentile25=train['Age'].quantile(0.25)\n",
    "percentile75=train['Age'].quantile(0.75)\n",
    "\n",
    "iqr = percentile75-percentile25\n",
    "\n",
    "upper_limit = percentile75 + (1.5*iqr)\n",
    "lower_limit = percentile25 - (1.5*iqr)"
   ]
  },
  {
   "cell_type": "code",
   "execution_count": 60,
   "id": "495e614d",
   "metadata": {},
   "outputs": [
    {
     "data": {
      "text/plain": [
       "(66.5, -9.5)"
      ]
     },
     "execution_count": 60,
     "metadata": {},
     "output_type": "execute_result"
    }
   ],
   "source": [
    "upper_limit , lower_limit"
   ]
  },
  {
   "cell_type": "code",
   "execution_count": 63,
   "id": "c6b3547d",
   "metadata": {},
   "outputs": [
    {
     "name": "stderr",
     "output_type": "stream",
     "text": [
      "C:\\Users\\Mrunmay\\AppData\\Local\\Temp\\ipykernel_13876\\1083366574.py:8: SettingWithCopyWarning: \n",
      "A value is trying to be set on a copy of a slice from a DataFrame\n",
      "\n",
      "See the caveats in the documentation: https://pandas.pydata.org/pandas-docs/stable/user_guide/indexing.html#returning-a-view-versus-a-copy\n",
      "  train['Age'][i]=train['Age'][i]\n"
     ]
    }
   ],
   "source": [
    "for i in range(1,8692):\n",
    "    if train['Age'][i] > upper_limit:\n",
    "        train['Age'][i] = upper_limit\n",
    "    else :\n",
    "        if train['Age'][i] <lower_limit:\n",
    "            train['Age'][i] = lower_limit\n",
    "        else :\n",
    "            train['Age'][i]=train['Age'][i]"
   ]
  },
  {
   "cell_type": "code",
   "execution_count": 64,
   "id": "244d3f3d",
   "metadata": {},
   "outputs": [
    {
     "data": {
      "text/plain": [
       "<AxesSubplot: >"
      ]
     },
     "execution_count": 64,
     "metadata": {},
     "output_type": "execute_result"
    },
    {
     "data": {
      "image/png": "[encoded data removed]",
      "text/plain": [
       "<Figure size 640x480 with 1 Axes>"
      ]
     },
     "metadata": {},
     "output_type": "display_data"
    }
   ],
   "source": [
    "sns.boxplot(train['Age'])"
   ]
  },
  {
   "cell_type": "code",
   "execution_count": 38,
   "id": "0392b6f2",
   "metadata": {},
   "outputs": [
    {
     "data": {
      "text/html": [
       "<div>\n",
       "<style scoped>\n",
       "    .dataframe tbody tr th:only-of-type {\n",
       "        vertical-align: middle;\n",
       "    }\n",
       "\n",
       "    .dataframe tbody tr th {\n",
       "        vertical-align: top;\n",
       "    }\n",
       "\n",
       "    .dataframe thead th {\n",
       "        text-align: right;\n",
       "    }\n",
       "</style>\n",
       "<table border=\"1\" class=\"dataframe\">\n",
       "  <thead>\n",
       "    <tr style=\"text-align: right;\">\n",
       "      <th></th>\n",
       "      <th>PassengerId</th>\n",
       "      <th>HomePlanet</th>\n",
       "      <th>CryoSleep</th>\n",
       "      <th>Cabin</th>\n",
       "      <th>Destination</th>\n",
       "      <th>Age</th>\n",
       "      <th>VIP</th>\n",
       "      <th>RoomService</th>\n",
       "      <th>FoodCourt</th>\n",
       "      <th>ShoppingMall</th>\n",
       "      <th>Spa</th>\n",
       "      <th>VRDeck</th>\n",
       "      <th>Transported</th>\n",
       "    </tr>\n",
       "  </thead>\n",
       "  <tbody>\n",
       "    <tr>\n",
       "      <th>7012</th>\n",
       "      <td>7457_01</td>\n",
       "      <td>Mars</td>\n",
       "      <td>False</td>\n",
       "      <td>E/496/S</td>\n",
       "      <td>TRAPPIST-1e</td>\n",
       "      <td>71.0</td>\n",
       "      <td>False</td>\n",
       "      <td>1243.0</td>\n",
       "      <td>0.0</td>\n",
       "      <td>5.0</td>\n",
       "      <td>16.0</td>\n",
       "      <td>34.0</td>\n",
       "      <td>False</td>\n",
       "    </tr>\n",
       "    <tr>\n",
       "      <th>7038</th>\n",
       "      <td>7498_01</td>\n",
       "      <td>Mars</td>\n",
       "      <td>False</td>\n",
       "      <td>F/1550/P</td>\n",
       "      <td>TRAPPIST-1e</td>\n",
       "      <td>68.0</td>\n",
       "      <td>True</td>\n",
       "      <td>523.0</td>\n",
       "      <td>0.0</td>\n",
       "      <td>859.0</td>\n",
       "      <td>201.0</td>\n",
       "      <td>782.0</td>\n",
       "      <td>False</td>\n",
       "    </tr>\n",
       "    <tr>\n",
       "      <th>7129</th>\n",
       "      <td>7598_01</td>\n",
       "      <td>Earth</td>\n",
       "      <td>True</td>\n",
       "      <td>G/1231/S</td>\n",
       "      <td>PSO J318.5-22</td>\n",
       "      <td>67.0</td>\n",
       "      <td>False</td>\n",
       "      <td>0.0</td>\n",
       "      <td>0.0</td>\n",
       "      <td>0.0</td>\n",
       "      <td>0.0</td>\n",
       "      <td>0.0</td>\n",
       "      <td>True</td>\n",
       "    </tr>\n",
       "    <tr>\n",
       "      <th>7269</th>\n",
       "      <td>7774_01</td>\n",
       "      <td>Mars</td>\n",
       "      <td>False</td>\n",
       "      <td>D/245/P</td>\n",
       "      <td>55 Cancri e</td>\n",
       "      <td>67.0</td>\n",
       "      <td>False</td>\n",
       "      <td>1146.0</td>\n",
       "      <td>16.0</td>\n",
       "      <td>39.0</td>\n",
       "      <td>0.0</td>\n",
       "      <td>518.0</td>\n",
       "      <td>True</td>\n",
       "    </tr>\n",
       "    <tr>\n",
       "      <th>7330</th>\n",
       "      <td>7843_01</td>\n",
       "      <td>Mars</td>\n",
       "      <td>True</td>\n",
       "      <td>NaN</td>\n",
       "      <td>TRAPPIST-1e</td>\n",
       "      <td>75.0</td>\n",
       "      <td>False</td>\n",
       "      <td>0.0</td>\n",
       "      <td>0.0</td>\n",
       "      <td>0.0</td>\n",
       "      <td>0.0</td>\n",
       "      <td>0.0</td>\n",
       "      <td>True</td>\n",
       "    </tr>\n",
       "    <tr>\n",
       "      <th>7387</th>\n",
       "      <td>7899_01</td>\n",
       "      <td>Earth</td>\n",
       "      <td>True</td>\n",
       "      <td>G/1275/S</td>\n",
       "      <td>TRAPPIST-1e</td>\n",
       "      <td>69.0</td>\n",
       "      <td>False</td>\n",
       "      <td>0.0</td>\n",
       "      <td>0.0</td>\n",
       "      <td>0.0</td>\n",
       "      <td>0.0</td>\n",
       "      <td>0.0</td>\n",
       "      <td>False</td>\n",
       "    </tr>\n",
       "    <tr>\n",
       "      <th>7501</th>\n",
       "      <td>8024_01</td>\n",
       "      <td>Earth</td>\n",
       "      <td>False</td>\n",
       "      <td>F/1533/S</td>\n",
       "      <td>TRAPPIST-1e</td>\n",
       "      <td>73.0</td>\n",
       "      <td>False</td>\n",
       "      <td>16.0</td>\n",
       "      <td>0.0</td>\n",
       "      <td>722.0</td>\n",
       "      <td>2.0</td>\n",
       "      <td>89.0</td>\n",
       "      <td>False</td>\n",
       "    </tr>\n",
       "    <tr>\n",
       "      <th>7576</th>\n",
       "      <td>8098_01</td>\n",
       "      <td>Europa</td>\n",
       "      <td>False</td>\n",
       "      <td>B/269/P</td>\n",
       "      <td>TRAPPIST-1e</td>\n",
       "      <td>69.0</td>\n",
       "      <td>True</td>\n",
       "      <td>0.0</td>\n",
       "      <td>269.0</td>\n",
       "      <td>0.0</td>\n",
       "      <td>190.0</td>\n",
       "      <td>9033.0</td>\n",
       "      <td>False</td>\n",
       "    </tr>\n",
       "    <tr>\n",
       "      <th>7584</th>\n",
       "      <td>8107_01</td>\n",
       "      <td>Earth</td>\n",
       "      <td>False</td>\n",
       "      <td>F/1678/P</td>\n",
       "      <td>PSO J318.5-22</td>\n",
       "      <td>71.0</td>\n",
       "      <td>False</td>\n",
       "      <td>48.0</td>\n",
       "      <td>43.0</td>\n",
       "      <td>0.0</td>\n",
       "      <td>78.0</td>\n",
       "      <td>534.0</td>\n",
       "      <td>False</td>\n",
       "    </tr>\n",
       "    <tr>\n",
       "      <th>7729</th>\n",
       "      <td>8248_02</td>\n",
       "      <td>Earth</td>\n",
       "      <td>False</td>\n",
       "      <td>G/1339/P</td>\n",
       "      <td>PSO J318.5-22</td>\n",
       "      <td>72.0</td>\n",
       "      <td>False</td>\n",
       "      <td>309.0</td>\n",
       "      <td>0.0</td>\n",
       "      <td>0.0</td>\n",
       "      <td>0.0</td>\n",
       "      <td>463.0</td>\n",
       "      <td>False</td>\n",
       "    </tr>\n",
       "    <tr>\n",
       "      <th>8042</th>\n",
       "      <td>8605_01</td>\n",
       "      <td>Europa</td>\n",
       "      <td>False</td>\n",
       "      <td>C/324/S</td>\n",
       "      <td>TRAPPIST-1e</td>\n",
       "      <td>67.0</td>\n",
       "      <td>False</td>\n",
       "      <td>0.0</td>\n",
       "      <td>82.0</td>\n",
       "      <td>0.0</td>\n",
       "      <td>2279.0</td>\n",
       "      <td>293.0</td>\n",
       "      <td>False</td>\n",
       "    </tr>\n",
       "    <tr>\n",
       "      <th>8288</th>\n",
       "      <td>8852_01</td>\n",
       "      <td>Mars</td>\n",
       "      <td>True</td>\n",
       "      <td>D/278/P</td>\n",
       "      <td>TRAPPIST-1e</td>\n",
       "      <td>76.0</td>\n",
       "      <td>False</td>\n",
       "      <td>0.0</td>\n",
       "      <td>0.0</td>\n",
       "      <td>0.0</td>\n",
       "      <td>0.0</td>\n",
       "      <td>0.0</td>\n",
       "      <td>True</td>\n",
       "    </tr>\n",
       "    <tr>\n",
       "      <th>8369</th>\n",
       "      <td>8954_01</td>\n",
       "      <td>Earth</td>\n",
       "      <td>False</td>\n",
       "      <td>G/1452/P</td>\n",
       "      <td>PSO J318.5-22</td>\n",
       "      <td>73.0</td>\n",
       "      <td>False</td>\n",
       "      <td>1806.0</td>\n",
       "      <td>0.0</td>\n",
       "      <td>47.0</td>\n",
       "      <td>0.0</td>\n",
       "      <td>0.0</td>\n",
       "      <td>False</td>\n",
       "    </tr>\n",
       "    <tr>\n",
       "      <th>8516</th>\n",
       "      <td>9085_01</td>\n",
       "      <td>Europa</td>\n",
       "      <td>False</td>\n",
       "      <td>A/95/P</td>\n",
       "      <td>55 Cancri e</td>\n",
       "      <td>70.0</td>\n",
       "      <td>False</td>\n",
       "      <td>0.0</td>\n",
       "      <td>2113.0</td>\n",
       "      <td>0.0</td>\n",
       "      <td>1972.0</td>\n",
       "      <td>51.0</td>\n",
       "      <td>False</td>\n",
       "    </tr>\n",
       "  </tbody>\n",
       "</table>\n",
       "</div>"
      ],
      "text/plain": [
       "     PassengerId HomePlanet CryoSleep     Cabin    Destination   Age    VIP  \\\n",
       "7012     7457_01       Mars     False   E/496/S    TRAPPIST-1e  71.0  False   \n",
       "7038     7498_01       Mars     False  F/1550/P    TRAPPIST-1e  68.0   True   \n",
       "7129     7598_01      Earth      True  G/1231/S  PSO J318.5-22  67.0  False   \n",
       "7269     7774_01       Mars     False   D/245/P    55 Cancri e  67.0  False   \n",
       "7330     7843_01       Mars      True       NaN    TRAPPIST-1e  75.0  False   \n",
       "7387     7899_01      Earth      True  G/1275/S    TRAPPIST-1e  69.0  False   \n",
       "7501     8024_01      Earth     False  F/1533/S    TRAPPIST-1e  73.0  False   \n",
       "7576     8098_01     Europa     False   B/269/P    TRAPPIST-1e  69.0   True   \n",
       "7584     8107_01      Earth     False  F/1678/P  PSO J318.5-22  71.0  False   \n",
       "7729     8248_02      Earth     False  G/1339/P  PSO J318.5-22  72.0  False   \n",
       "8042     8605_01     Europa     False   C/324/S    TRAPPIST-1e  67.0  False   \n",
       "8288     8852_01       Mars      True   D/278/P    TRAPPIST-1e  76.0  False   \n",
       "8369     8954_01      Earth     False  G/1452/P  PSO J318.5-22  73.0  False   \n",
       "8516     9085_01     Europa     False    A/95/P    55 Cancri e  70.0  False   \n",
       "\n",
       "      RoomService  FoodCourt  ShoppingMall     Spa  VRDeck  Transported  \n",
       "7012       1243.0        0.0           5.0    16.0    34.0        False  \n",
       "7038        523.0        0.0         859.0   201.0   782.0        False  \n",
       "7129          0.0        0.0           0.0     0.0     0.0         True  \n",
       "7269       1146.0       16.0          39.0     0.0   518.0         True  \n",
       "7330          0.0        0.0           0.0     0.0     0.0         True  \n",
       "7387          0.0        0.0           0.0     0.0     0.0        False  \n",
       "7501         16.0        0.0         722.0     2.0    89.0        False  \n",
       "7576          0.0      269.0           0.0   190.0  9033.0        False  \n",
       "7584         48.0       43.0           0.0    78.0   534.0        False  \n",
       "7729        309.0        0.0           0.0     0.0   463.0        False  \n",
       "8042          0.0       82.0           0.0  2279.0   293.0        False  \n",
       "8288          0.0        0.0           0.0     0.0     0.0         True  \n",
       "8369       1806.0        0.0          47.0     0.0     0.0        False  \n",
       "8516          0.0     2113.0           0.0  1972.0    51.0        False  "
      ]
     },
     "execution_count": 38,
     "metadata": {},
     "output_type": "execute_result"
    }
   ],
   "source": [
    "train[train['Age'] > upper_limit]"
   ]
  },
  {
   "cell_type": "code",
   "execution_count": 65,
   "id": "2ec78386",
   "metadata": {},
   "outputs": [],
   "source": [
    "percentile25=test['Age'].quantile(0.25)\n",
    "percentile75=test['Age'].quantile(0.75)\n",
    "\n",
    "iqr = percentile75-percentile25\n",
    "\n",
    "upper_limit = percentile75 + (1.5*iqr)\n",
    "lower_limit = percentile25 - (1.5*iqr)"
   ]
  },
  {
   "cell_type": "code",
   "execution_count": 66,
   "id": "60fb3e2c",
   "metadata": {},
   "outputs": [
    {
     "name": "stderr",
     "output_type": "stream",
     "text": [
      "C:\\Users\\Mrunmay\\AppData\\Local\\Temp\\ipykernel_13876\\1613378901.py:8: SettingWithCopyWarning: \n",
      "A value is trying to be set on a copy of a slice from a DataFrame\n",
      "\n",
      "See the caveats in the documentation: https://pandas.pydata.org/pandas-docs/stable/user_guide/indexing.html#returning-a-view-versus-a-copy\n",
      "  test['Age'][i]=test['Age'][i]\n",
      "C:\\Users\\Mrunmay\\AppData\\Local\\Temp\\ipykernel_13876\\1613378901.py:3: SettingWithCopyWarning: \n",
      "A value is trying to be set on a copy of a slice from a DataFrame\n",
      "\n",
      "See the caveats in the documentation: https://pandas.pydata.org/pandas-docs/stable/user_guide/indexing.html#returning-a-view-versus-a-copy\n",
      "  test['Age'][i] = upper_limit\n"
     ]
    }
   ],
   "source": [
    "for i in range(1,4277):\n",
    "    if test['Age'][i] > upper_limit:\n",
    "        test['Age'][i] = upper_limit\n",
    "    else :\n",
    "        if test['Age'][i] <lower_limit:\n",
    "            test['Age'][i] = lower_limit\n",
    "        else :\n",
    "            test['Age'][i]=test['Age'][i]"
   ]
  },
  {
   "cell_type": "code",
   "execution_count": 67,
   "id": "8060be2f",
   "metadata": {},
   "outputs": [
    {
     "data": {
      "text/plain": [
       "<AxesSubplot: >"
      ]
     },
     "execution_count": 67,
     "metadata": {},
     "output_type": "execute_result"
    },
    {
     "data": {
      "image/png": "[encoded data removed]",
      "text/plain": [
       "<Figure size 640x480 with 1 Axes>"
      ]
     },
     "metadata": {},
     "output_type": "display_data"
    }
   ],
   "source": [
    "sns.boxplot(test['Age'])"
   ]
  },
  {
   "cell_type": "markdown",
   "id": "0b080f84",
   "metadata": {},
   "source": [
    "## Filling Missing values "
   ]
  },
  {
   "cell_type": "code",
   "execution_count": 68,
   "id": "0b18d4c7",
   "metadata": {},
   "outputs": [],
   "source": [
    "from sklearn.compose import ColumnTransformer\n",
    "from sklearn.impute import SimpleImputer"
   ]
  },
  {
   "cell_type": "code",
   "execution_count": 73,
   "id": "1b59344f",
   "metadata": {},
   "outputs": [],
   "source": [
    "ct = ColumnTransformer(transformers=[\n",
    "    ('tnf1',SimpleImputer(strategy='constant',fill_value='Earth'),['HomePlanet']),\n",
    "    ('tnf2',SimpleImputer(strategy='constant',fill_value='False'),['CryoSleep']),\n",
    "    ('tnf3',SimpleImputer(strategy='constant',fill_value='TRAPPIST-1e'),['Destination']),\n",
    "    ('tnf4',SimpleImputer(strategy='mean'),['Age']),\n",
    "    ('tnf5',SimpleImputer(strategy='constant',fill_value='False'),['VIP']),\n",
    "    ('tnf6',SimpleImputer(strategy='median'),['RoomService']),\n",
    "    ('tnf7',SimpleImputer(strategy='median'),['FoodCourt']),\n",
    "    ('tnf8',SimpleImputer(strategy='median'),['ShoppingMall']),\n",
    "    ('tnf9',SimpleImputer(strategy='median'),['Spa']),\n",
    "    ('tnf10',SimpleImputer(strategy='median'),['VRDeck']),\n",
    "],remainder='passthrough')"
   ]
  },
  {
   "cell_type": "code",
   "execution_count": 74,
   "id": "96f67616",
   "metadata": {},
   "outputs": [],
   "source": [
    "ct.set_output(transform='pandas')\n",
    "train = ct.fit_transform(train)"
   ]
  },
  {
   "cell_type": "code",
   "execution_count": 75,
   "id": "0c827079",
   "metadata": {},
   "outputs": [
    {
     "data": {
      "text/plain": [
       "tnf1__HomePlanet            0\n",
       "tnf2__CryoSleep             0\n",
       "tnf3__Destination           0\n",
       "tnf4__Age                   0\n",
       "tnf5__VIP                   0\n",
       "tnf6__RoomService           0\n",
       "tnf7__FoodCourt             0\n",
       "tnf8__ShoppingMall          0\n",
       "tnf9__Spa                   0\n",
       "tnf10__VRDeck               0\n",
       "remainder__PassengerId      0\n",
       "remainder__Cabin          199\n",
       "remainder__Transported      0\n",
       "dtype: int64"
      ]
     },
     "execution_count": 75,
     "metadata": {},
     "output_type": "execute_result"
    }
   ],
   "source": [
    "train.isnull().sum()"
   ]
  },
  {
   "cell_type": "code",
   "execution_count": 76,
   "id": "0650a3c5",
   "metadata": {},
   "outputs": [],
   "source": [
    "test = ct.fit_transform(test)"
   ]
  },
  {
   "cell_type": "code",
   "execution_count": 77,
   "id": "84e7000b",
   "metadata": {},
   "outputs": [
    {
     "data": {
      "text/plain": [
       "tnf1__HomePlanet            0\n",
       "tnf2__CryoSleep             0\n",
       "tnf3__Destination           0\n",
       "tnf4__Age                   0\n",
       "tnf5__VIP                   0\n",
       "tnf6__RoomService           0\n",
       "tnf7__FoodCourt             0\n",
       "tnf8__ShoppingMall          0\n",
       "tnf9__Spa                   0\n",
       "tnf10__VRDeck               0\n",
       "remainder__PassengerId      0\n",
       "remainder__Cabin          100\n",
       "dtype: int64"
      ]
     },
     "execution_count": 77,
     "metadata": {},
     "output_type": "execute_result"
    }
   ],
   "source": [
    "test.isnull().sum()"
   ]
  },
  {
   "cell_type": "code",
   "execution_count": 79,
   "id": "39c9b734",
   "metadata": {},
   "outputs": [],
   "source": [
    "train.drop('remainder__Cabin',axis=1,inplace=True)\n",
    "test.drop('remainder__Cabin',axis=1,inplace=True)"
   ]
  },
  {
   "cell_type": "markdown",
   "id": "985a8a18",
   "metadata": {},
   "source": [
    "## Normalization "
   ]
  },
  {
   "cell_type": "code",
   "execution_count": 80,
   "id": "ad75016c",
   "metadata": {},
   "outputs": [],
   "source": [
    "from sklearn.preprocessing import MinMaxScaler"
   ]
  },
  {
   "cell_type": "code",
   "execution_count": 81,
   "id": "c94eb747",
   "metadata": {},
   "outputs": [],
   "source": [
    "ct2 = ColumnTransformer(transformers=[\n",
    "    ('tnf1',MinMaxScaler(),['tnf6__RoomService']),\n",
    "    ('tnf2',MinMaxScaler(),['tnf7__FoodCourt']),\n",
    "    ('tnf3',MinMaxScaler(),['tnf8__ShoppingMall']),\n",
    "    ('tnf4',MinMaxScaler(),['tnf9__Spa']),\n",
    "    ('tnf5',MinMaxScaler(),['tnf10__VRDeck'])\n",
    "],remainder='passthrough')"
   ]
  },
  {
   "cell_type": "code",
   "execution_count": 83,
   "id": "3fa8adca",
   "metadata": {},
   "outputs": [],
   "source": [
    "ct2.set_output(transform='pandas')\n",
    "train_trf = ct2.fit_transform(train)"
   ]
  },
  {
   "cell_type": "code",
   "execution_count": 84,
   "id": "2670ed62",
   "metadata": {},
   "outputs": [
    {
     "data": {
      "text/html": [
       "<div>\n",
       "<style scoped>\n",
       "    .dataframe tbody tr th:only-of-type {\n",
       "        vertical-align: middle;\n",
       "    }\n",
       "\n",
       "    .dataframe tbody tr th {\n",
       "        vertical-align: top;\n",
       "    }\n",
       "\n",
       "    .dataframe thead th {\n",
       "        text-align: right;\n",
       "    }\n",
       "</style>\n",
       "<table border=\"1\" class=\"dataframe\">\n",
       "  <thead>\n",
       "    <tr style=\"text-align: right;\">\n",
       "      <th></th>\n",
       "      <th>tnf1__tnf6__RoomService</th>\n",
       "      <th>tnf2__tnf7__FoodCourt</th>\n",
       "      <th>tnf3__tnf8__ShoppingMall</th>\n",
       "      <th>tnf4__tnf9__Spa</th>\n",
       "      <th>tnf5__tnf10__VRDeck</th>\n",
       "      <th>remainder__tnf1__HomePlanet</th>\n",
       "      <th>remainder__tnf2__CryoSleep</th>\n",
       "      <th>remainder__tnf3__Destination</th>\n",
       "      <th>remainder__tnf4__Age</th>\n",
       "      <th>remainder__tnf5__VIP</th>\n",
       "      <th>remainder__remainder__PassengerId</th>\n",
       "      <th>remainder__remainder__Transported</th>\n",
       "    </tr>\n",
       "  </thead>\n",
       "  <tbody>\n",
       "    <tr>\n",
       "      <th>0</th>\n",
       "      <td>0.000000</td>\n",
       "      <td>0.000000</td>\n",
       "      <td>0.000000</td>\n",
       "      <td>0.000000</td>\n",
       "      <td>0.000000</td>\n",
       "      <td>Europa</td>\n",
       "      <td>False</td>\n",
       "      <td>TRAPPIST-1e</td>\n",
       "      <td>39.0</td>\n",
       "      <td>False</td>\n",
       "      <td>0001_01</td>\n",
       "      <td>False</td>\n",
       "    </tr>\n",
       "    <tr>\n",
       "      <th>1</th>\n",
       "      <td>0.007608</td>\n",
       "      <td>0.000302</td>\n",
       "      <td>0.001064</td>\n",
       "      <td>0.024500</td>\n",
       "      <td>0.001823</td>\n",
       "      <td>Earth</td>\n",
       "      <td>False</td>\n",
       "      <td>TRAPPIST-1e</td>\n",
       "      <td>24.0</td>\n",
       "      <td>False</td>\n",
       "      <td>0002_01</td>\n",
       "      <td>True</td>\n",
       "    </tr>\n",
       "    <tr>\n",
       "      <th>2</th>\n",
       "      <td>0.003001</td>\n",
       "      <td>0.119948</td>\n",
       "      <td>0.000000</td>\n",
       "      <td>0.299670</td>\n",
       "      <td>0.002030</td>\n",
       "      <td>Europa</td>\n",
       "      <td>False</td>\n",
       "      <td>TRAPPIST-1e</td>\n",
       "      <td>58.0</td>\n",
       "      <td>True</td>\n",
       "      <td>0003_01</td>\n",
       "      <td>False</td>\n",
       "    </tr>\n",
       "    <tr>\n",
       "      <th>3</th>\n",
       "      <td>0.000000</td>\n",
       "      <td>0.043035</td>\n",
       "      <td>0.015793</td>\n",
       "      <td>0.148563</td>\n",
       "      <td>0.007997</td>\n",
       "      <td>Europa</td>\n",
       "      <td>False</td>\n",
       "      <td>TRAPPIST-1e</td>\n",
       "      <td>33.0</td>\n",
       "      <td>False</td>\n",
       "      <td>0003_02</td>\n",
       "      <td>False</td>\n",
       "    </tr>\n",
       "    <tr>\n",
       "      <th>4</th>\n",
       "      <td>0.021149</td>\n",
       "      <td>0.002348</td>\n",
       "      <td>0.006428</td>\n",
       "      <td>0.025214</td>\n",
       "      <td>0.000083</td>\n",
       "      <td>Earth</td>\n",
       "      <td>False</td>\n",
       "      <td>TRAPPIST-1e</td>\n",
       "      <td>16.0</td>\n",
       "      <td>False</td>\n",
       "      <td>0004_01</td>\n",
       "      <td>True</td>\n",
       "    </tr>\n",
       "    <tr>\n",
       "      <th>...</th>\n",
       "      <td>...</td>\n",
       "      <td>...</td>\n",
       "      <td>...</td>\n",
       "      <td>...</td>\n",
       "      <td>...</td>\n",
       "      <td>...</td>\n",
       "      <td>...</td>\n",
       "      <td>...</td>\n",
       "      <td>...</td>\n",
       "      <td>...</td>\n",
       "      <td>...</td>\n",
       "      <td>...</td>\n",
       "    </tr>\n",
       "    <tr>\n",
       "      <th>8688</th>\n",
       "      <td>0.000000</td>\n",
       "      <td>0.228726</td>\n",
       "      <td>0.000000</td>\n",
       "      <td>0.073322</td>\n",
       "      <td>0.003066</td>\n",
       "      <td>Europa</td>\n",
       "      <td>False</td>\n",
       "      <td>55 Cancri e</td>\n",
       "      <td>41.0</td>\n",
       "      <td>True</td>\n",
       "      <td>9276_01</td>\n",
       "      <td>False</td>\n",
       "    </tr>\n",
       "    <tr>\n",
       "      <th>8689</th>\n",
       "      <td>0.000000</td>\n",
       "      <td>0.000000</td>\n",
       "      <td>0.000000</td>\n",
       "      <td>0.000000</td>\n",
       "      <td>0.000000</td>\n",
       "      <td>Earth</td>\n",
       "      <td>True</td>\n",
       "      <td>PSO J318.5-22</td>\n",
       "      <td>18.0</td>\n",
       "      <td>False</td>\n",
       "      <td>9278_01</td>\n",
       "      <td>False</td>\n",
       "    </tr>\n",
       "    <tr>\n",
       "      <th>8690</th>\n",
       "      <td>0.000000</td>\n",
       "      <td>0.000000</td>\n",
       "      <td>0.079687</td>\n",
       "      <td>0.000045</td>\n",
       "      <td>0.000000</td>\n",
       "      <td>Earth</td>\n",
       "      <td>False</td>\n",
       "      <td>TRAPPIST-1e</td>\n",
       "      <td>26.0</td>\n",
       "      <td>False</td>\n",
       "      <td>9279_01</td>\n",
       "      <td>True</td>\n",
       "    </tr>\n",
       "    <tr>\n",
       "      <th>8691</th>\n",
       "      <td>0.000000</td>\n",
       "      <td>0.035186</td>\n",
       "      <td>0.000000</td>\n",
       "      <td>0.015753</td>\n",
       "      <td>0.134049</td>\n",
       "      <td>Europa</td>\n",
       "      <td>False</td>\n",
       "      <td>55 Cancri e</td>\n",
       "      <td>32.0</td>\n",
       "      <td>False</td>\n",
       "      <td>9280_01</td>\n",
       "      <td>False</td>\n",
       "    </tr>\n",
       "    <tr>\n",
       "      <th>8692</th>\n",
       "      <td>0.008795</td>\n",
       "      <td>0.157247</td>\n",
       "      <td>0.000000</td>\n",
       "      <td>0.000000</td>\n",
       "      <td>0.000497</td>\n",
       "      <td>Europa</td>\n",
       "      <td>False</td>\n",
       "      <td>TRAPPIST-1e</td>\n",
       "      <td>44.0</td>\n",
       "      <td>False</td>\n",
       "      <td>9280_02</td>\n",
       "      <td>True</td>\n",
       "    </tr>\n",
       "  </tbody>\n",
       "</table>\n",
       "<p>8693 rows × 12 columns</p>\n",
       "</div>"
      ],
      "text/plain": [
       "      tnf1__tnf6__RoomService  tnf2__tnf7__FoodCourt  \\\n",
       "0                    0.000000               0.000000   \n",
       "1                    0.007608               0.000302   \n",
       "2                    0.003001               0.119948   \n",
       "3                    0.000000               0.043035   \n",
       "4                    0.021149               0.002348   \n",
       "...                       ...                    ...   \n",
       "8688                 0.000000               0.228726   \n",
       "8689                 0.000000               0.000000   \n",
       "8690                 0.000000               0.000000   \n",
       "8691                 0.000000               0.035186   \n",
       "8692                 0.008795               0.157247   \n",
       "\n",
       "      tnf3__tnf8__ShoppingMall  tnf4__tnf9__Spa  tnf5__tnf10__VRDeck  \\\n",
       "0                     0.000000         0.000000             0.000000   \n",
       "1                     0.001064         0.024500             0.001823   \n",
       "2                     0.000000         0.299670             0.002030   \n",
       "3                     0.015793         0.148563             0.007997   \n",
       "4                     0.006428         0.025214             0.000083   \n",
       "...                        ...              ...                  ...   \n",
       "8688                  0.000000         0.073322             0.003066   \n",
       "8689                  0.000000         0.000000             0.000000   \n",
       "8690                  0.079687         0.000045             0.000000   \n",
       "8691                  0.000000         0.015753             0.134049   \n",
       "8692                  0.000000         0.000000             0.000497   \n",
       "\n",
       "     remainder__tnf1__HomePlanet remainder__tnf2__CryoSleep  \\\n",
       "0                         Europa                      False   \n",
       "1                          Earth                      False   \n",
       "2                         Europa                      False   \n",
       "3                         Europa                      False   \n",
       "4                          Earth                      False   \n",
       "...                          ...                        ...   \n",
       "8688                      Europa                      False   \n",
       "8689                       Earth                       True   \n",
       "8690                       Earth                      False   \n",
       "8691                      Europa                      False   \n",
       "8692                      Europa                      False   \n",
       "\n",
       "     remainder__tnf3__Destination  remainder__tnf4__Age remainder__tnf5__VIP  \\\n",
       "0                     TRAPPIST-1e                  39.0                False   \n",
       "1                     TRAPPIST-1e                  24.0                False   \n",
       "2                     TRAPPIST-1e                  58.0                 True   \n",
       "3                     TRAPPIST-1e                  33.0                False   \n",
       "4                     TRAPPIST-1e                  16.0                False   \n",
       "...                           ...                   ...                  ...   \n",
       "8688                  55 Cancri e                  41.0                 True   \n",
       "8689                PSO J318.5-22                  18.0                False   \n",
       "8690                  TRAPPIST-1e                  26.0                False   \n",
       "8691                  55 Cancri e                  32.0                False   \n",
       "8692                  TRAPPIST-1e                  44.0                False   \n",
       "\n",
       "     remainder__remainder__PassengerId  remainder__remainder__Transported  \n",
       "0                              0001_01                              False  \n",
       "1                              0002_01                               True  \n",
       "2                              0003_01                              False  \n",
       "3                              0003_02                              False  \n",
       "4                              0004_01                               True  \n",
       "...                                ...                                ...  \n",
       "8688                           9276_01                              False  \n",
       "8689                           9278_01                              False  \n",
       "8690                           9279_01                               True  \n",
       "8691                           9280_01                              False  \n",
       "8692                           9280_02                               True  \n",
       "\n",
       "[8693 rows x 12 columns]"
      ]
     },
     "execution_count": 84,
     "metadata": {},
     "output_type": "execute_result"
    }
   ],
   "source": [
    "train_trf"
   ]
  },
  {
   "cell_type": "code",
   "execution_count": 86,
   "id": "2104b694",
   "metadata": {},
   "outputs": [],
   "source": [
    "test_trf = ct2.fit_transform(test)"
   ]
  },
  {
   "cell_type": "markdown",
   "id": "c014e51a",
   "metadata": {},
   "source": [
    "## Label Encoding "
   ]
  },
  {
   "cell_type": "code",
   "execution_count": 87,
   "id": "f33859b6",
   "metadata": {},
   "outputs": [],
   "source": [
    "test_trf.replace({False: 0, True: 1}, inplace=True)\n",
    "train_trf.replace({False: 0, True: 1}, inplace=True)"
   ]
  },
  {
   "cell_type": "code",
   "execution_count": 89,
   "id": "d4e103cc",
   "metadata": {},
   "outputs": [
    {
     "data": {
      "text/html": [
       "<div>\n",
       "<style scoped>\n",
       "    .dataframe tbody tr th:only-of-type {\n",
       "        vertical-align: middle;\n",
       "    }\n",
       "\n",
       "    .dataframe tbody tr th {\n",
       "        vertical-align: top;\n",
       "    }\n",
       "\n",
       "    .dataframe thead th {\n",
       "        text-align: right;\n",
       "    }\n",
       "</style>\n",
       "<table border=\"1\" class=\"dataframe\">\n",
       "  <thead>\n",
       "    <tr style=\"text-align: right;\">\n",
       "      <th></th>\n",
       "      <th>tnf1__tnf6__RoomService</th>\n",
       "      <th>tnf2__tnf7__FoodCourt</th>\n",
       "      <th>tnf3__tnf8__ShoppingMall</th>\n",
       "      <th>tnf4__tnf9__Spa</th>\n",
       "      <th>tnf5__tnf10__VRDeck</th>\n",
       "      <th>remainder__tnf1__HomePlanet</th>\n",
       "      <th>remainder__tnf2__CryoSleep</th>\n",
       "      <th>remainder__tnf3__Destination</th>\n",
       "      <th>remainder__tnf4__Age</th>\n",
       "      <th>remainder__tnf5__VIP</th>\n",
       "      <th>remainder__remainder__PassengerId</th>\n",
       "      <th>remainder__remainder__Transported</th>\n",
       "    </tr>\n",
       "  </thead>\n",
       "  <tbody>\n",
       "    <tr>\n",
       "      <th>0</th>\n",
       "      <td>0.000000</td>\n",
       "      <td>0.000000</td>\n",
       "      <td>0.000000</td>\n",
       "      <td>0.000000</td>\n",
       "      <td>0.000000</td>\n",
       "      <td>Europa</td>\n",
       "      <td>0</td>\n",
       "      <td>TRAPPIST-1e</td>\n",
       "      <td>39.0</td>\n",
       "      <td>0</td>\n",
       "      <td>0001_01</td>\n",
       "      <td>0</td>\n",
       "    </tr>\n",
       "    <tr>\n",
       "      <th>1</th>\n",
       "      <td>0.007608</td>\n",
       "      <td>0.000302</td>\n",
       "      <td>0.001064</td>\n",
       "      <td>0.024500</td>\n",
       "      <td>0.001823</td>\n",
       "      <td>Earth</td>\n",
       "      <td>0</td>\n",
       "      <td>TRAPPIST-1e</td>\n",
       "      <td>24.0</td>\n",
       "      <td>0</td>\n",
       "      <td>0002_01</td>\n",
       "      <td>1</td>\n",
       "    </tr>\n",
       "    <tr>\n",
       "      <th>2</th>\n",
       "      <td>0.003001</td>\n",
       "      <td>0.119948</td>\n",
       "      <td>0.000000</td>\n",
       "      <td>0.299670</td>\n",
       "      <td>0.002030</td>\n",
       "      <td>Europa</td>\n",
       "      <td>0</td>\n",
       "      <td>TRAPPIST-1e</td>\n",
       "      <td>58.0</td>\n",
       "      <td>1</td>\n",
       "      <td>0003_01</td>\n",
       "      <td>0</td>\n",
       "    </tr>\n",
       "    <tr>\n",
       "      <th>3</th>\n",
       "      <td>0.000000</td>\n",
       "      <td>0.043035</td>\n",
       "      <td>0.015793</td>\n",
       "      <td>0.148563</td>\n",
       "      <td>0.007997</td>\n",
       "      <td>Europa</td>\n",
       "      <td>0</td>\n",
       "      <td>TRAPPIST-1e</td>\n",
       "      <td>33.0</td>\n",
       "      <td>0</td>\n",
       "      <td>0003_02</td>\n",
       "      <td>0</td>\n",
       "    </tr>\n",
       "    <tr>\n",
       "      <th>4</th>\n",
       "      <td>0.021149</td>\n",
       "      <td>0.002348</td>\n",
       "      <td>0.006428</td>\n",
       "      <td>0.025214</td>\n",
       "      <td>0.000083</td>\n",
       "      <td>Earth</td>\n",
       "      <td>0</td>\n",
       "      <td>TRAPPIST-1e</td>\n",
       "      <td>16.0</td>\n",
       "      <td>0</td>\n",
       "      <td>0004_01</td>\n",
       "      <td>1</td>\n",
       "    </tr>\n",
       "  </tbody>\n",
       "</table>\n",
       "</div>"
      ],
      "text/plain": [
       "   tnf1__tnf6__RoomService  tnf2__tnf7__FoodCourt  tnf3__tnf8__ShoppingMall  \\\n",
       "0                 0.000000               0.000000                  0.000000   \n",
       "1                 0.007608               0.000302                  0.001064   \n",
       "2                 0.003001               0.119948                  0.000000   \n",
       "3                 0.000000               0.043035                  0.015793   \n",
       "4                 0.021149               0.002348                  0.006428   \n",
       "\n",
       "   tnf4__tnf9__Spa  tnf5__tnf10__VRDeck remainder__tnf1__HomePlanet  \\\n",
       "0         0.000000             0.000000                      Europa   \n",
       "1         0.024500             0.001823                       Earth   \n",
       "2         0.299670             0.002030                      Europa   \n",
       "3         0.148563             0.007997                      Europa   \n",
       "4         0.025214             0.000083                       Earth   \n",
       "\n",
       "  remainder__tnf2__CryoSleep remainder__tnf3__Destination  \\\n",
       "0                          0                  TRAPPIST-1e   \n",
       "1                          0                  TRAPPIST-1e   \n",
       "2                          0                  TRAPPIST-1e   \n",
       "3                          0                  TRAPPIST-1e   \n",
       "4                          0                  TRAPPIST-1e   \n",
       "\n",
       "   remainder__tnf4__Age remainder__tnf5__VIP  \\\n",
       "0                  39.0                    0   \n",
       "1                  24.0                    0   \n",
       "2                  58.0                    1   \n",
       "3                  33.0                    0   \n",
       "4                  16.0                    0   \n",
       "\n",
       "  remainder__remainder__PassengerId  remainder__remainder__Transported  \n",
       "0                           0001_01                                  0  \n",
       "1                           0002_01                                  1  \n",
       "2                           0003_01                                  0  \n",
       "3                           0003_02                                  0  \n",
       "4                           0004_01                                  1  "
      ]
     },
     "execution_count": 89,
     "metadata": {},
     "output_type": "execute_result"
    }
   ],
   "source": [
    "train_trf.head()"
   ]
  },
  {
   "cell_type": "code",
   "execution_count": 90,
   "id": "b27d27cc",
   "metadata": {},
   "outputs": [
    {
     "name": "stdout",
     "output_type": "stream",
     "text": [
      "<class 'pandas.core.frame.DataFrame'>\n",
      "RangeIndex: 8693 entries, 0 to 8692\n",
      "Data columns (total 12 columns):\n",
      " #   Column                             Non-Null Count  Dtype  \n",
      "---  ------                             --------------  -----  \n",
      " 0   tnf1__tnf6__RoomService            8693 non-null   float64\n",
      " 1   tnf2__tnf7__FoodCourt              8693 non-null   float64\n",
      " 2   tnf3__tnf8__ShoppingMall           8693 non-null   float64\n",
      " 3   tnf4__tnf9__Spa                    8693 non-null   float64\n",
      " 4   tnf5__tnf10__VRDeck                8693 non-null   float64\n",
      " 5   remainder__tnf1__HomePlanet        8693 non-null   object \n",
      " 6   remainder__tnf2__CryoSleep         8693 non-null   object \n",
      " 7   remainder__tnf3__Destination       8693 non-null   object \n",
      " 8   remainder__tnf4__Age               8693 non-null   float64\n",
      " 9   remainder__tnf5__VIP               8693 non-null   object \n",
      " 10  remainder__remainder__PassengerId  8693 non-null   object \n",
      " 11  remainder__remainder__Transported  8693 non-null   int64  \n",
      "dtypes: float64(6), int64(1), object(5)\n",
      "memory usage: 815.1+ KB\n"
     ]
    }
   ],
   "source": [
    "train_trf.info()"
   ]
  },
  {
   "cell_type": "code",
   "execution_count": 91,
   "id": "f5a09bdd",
   "metadata": {},
   "outputs": [],
   "source": [
    "from sklearn.preprocessing import OneHotEncoder"
   ]
  },
  {
   "cell_type": "code",
   "execution_count": 101,
   "id": "49b6431b",
   "metadata": {},
   "outputs": [],
   "source": [
    "ct3 = ColumnTransformer(transformers=[\n",
    "    ('t1',OneHotEncoder(sparse_output=False,drop='first'),['remainder__tnf1__HomePlanet']),\n",
    "    ('t2',OneHotEncoder(sparse_output=False,drop='first'),['remainder__tnf3__Destination'])\n",
    "],remainder='passthrough')"
   ]
  },
  {
   "cell_type": "code",
   "execution_count": 102,
   "id": "04ff358f",
   "metadata": {},
   "outputs": [],
   "source": [
    "ct3.set_output(transform='pandas')\n",
    "train_trf = ct3.fit_transform(train_trf)\n",
    "test_trf = ct3.fit_transform(test_trf)"
   ]
  },
  {
   "cell_type": "code",
   "execution_count": 103,
   "id": "1ca4c375",
   "metadata": {},
   "outputs": [
    {
     "data": {
      "text/html": [
       "<div>\n",
       "<style scoped>\n",
       "    .dataframe tbody tr th:only-of-type {\n",
       "        vertical-align: middle;\n",
       "    }\n",
       "\n",
       "    .dataframe tbody tr th {\n",
       "        vertical-align: top;\n",
       "    }\n",
       "\n",
       "    .dataframe thead th {\n",
       "        text-align: right;\n",
       "    }\n",
       "</style>\n",
       "<table border=\"1\" class=\"dataframe\">\n",
       "  <thead>\n",
       "    <tr style=\"text-align: right;\">\n",
       "      <th></th>\n",
       "      <th>t1__remainder__tnf1__HomePlanet_Europa</th>\n",
       "      <th>t1__remainder__tnf1__HomePlanet_Mars</th>\n",
       "      <th>t2__remainder__tnf3__Destination_PSO J318.5-22</th>\n",
       "      <th>t2__remainder__tnf3__Destination_TRAPPIST-1e</th>\n",
       "      <th>remainder__tnf1__tnf6__RoomService</th>\n",
       "      <th>remainder__tnf2__tnf7__FoodCourt</th>\n",
       "      <th>remainder__tnf3__tnf8__ShoppingMall</th>\n",
       "      <th>remainder__tnf4__tnf9__Spa</th>\n",
       "      <th>remainder__tnf5__tnf10__VRDeck</th>\n",
       "      <th>remainder__remainder__tnf2__CryoSleep</th>\n",
       "      <th>remainder__remainder__tnf4__Age</th>\n",
       "      <th>remainder__remainder__tnf5__VIP</th>\n",
       "      <th>remainder__remainder__remainder__PassengerId</th>\n",
       "      <th>remainder__remainder__remainder__Transported</th>\n",
       "    </tr>\n",
       "  </thead>\n",
       "  <tbody>\n",
       "    <tr>\n",
       "      <th>0</th>\n",
       "      <td>1.0</td>\n",
       "      <td>0.0</td>\n",
       "      <td>0.0</td>\n",
       "      <td>1.0</td>\n",
       "      <td>0.000000</td>\n",
       "      <td>0.000000</td>\n",
       "      <td>0.000000</td>\n",
       "      <td>0.000000</td>\n",
       "      <td>0.000000</td>\n",
       "      <td>0</td>\n",
       "      <td>39.0</td>\n",
       "      <td>0</td>\n",
       "      <td>0001_01</td>\n",
       "      <td>0</td>\n",
       "    </tr>\n",
       "    <tr>\n",
       "      <th>1</th>\n",
       "      <td>0.0</td>\n",
       "      <td>0.0</td>\n",
       "      <td>0.0</td>\n",
       "      <td>1.0</td>\n",
       "      <td>0.007608</td>\n",
       "      <td>0.000302</td>\n",
       "      <td>0.001064</td>\n",
       "      <td>0.024500</td>\n",
       "      <td>0.001823</td>\n",
       "      <td>0</td>\n",
       "      <td>24.0</td>\n",
       "      <td>0</td>\n",
       "      <td>0002_01</td>\n",
       "      <td>1</td>\n",
       "    </tr>\n",
       "    <tr>\n",
       "      <th>2</th>\n",
       "      <td>1.0</td>\n",
       "      <td>0.0</td>\n",
       "      <td>0.0</td>\n",
       "      <td>1.0</td>\n",
       "      <td>0.003001</td>\n",
       "      <td>0.119948</td>\n",
       "      <td>0.000000</td>\n",
       "      <td>0.299670</td>\n",
       "      <td>0.002030</td>\n",
       "      <td>0</td>\n",
       "      <td>58.0</td>\n",
       "      <td>1</td>\n",
       "      <td>0003_01</td>\n",
       "      <td>0</td>\n",
       "    </tr>\n",
       "    <tr>\n",
       "      <th>3</th>\n",
       "      <td>1.0</td>\n",
       "      <td>0.0</td>\n",
       "      <td>0.0</td>\n",
       "      <td>1.0</td>\n",
       "      <td>0.000000</td>\n",
       "      <td>0.043035</td>\n",
       "      <td>0.015793</td>\n",
       "      <td>0.148563</td>\n",
       "      <td>0.007997</td>\n",
       "      <td>0</td>\n",
       "      <td>33.0</td>\n",
       "      <td>0</td>\n",
       "      <td>0003_02</td>\n",
       "      <td>0</td>\n",
       "    </tr>\n",
       "    <tr>\n",
       "      <th>4</th>\n",
       "      <td>0.0</td>\n",
       "      <td>0.0</td>\n",
       "      <td>0.0</td>\n",
       "      <td>1.0</td>\n",
       "      <td>0.021149</td>\n",
       "      <td>0.002348</td>\n",
       "      <td>0.006428</td>\n",
       "      <td>0.025214</td>\n",
       "      <td>0.000083</td>\n",
       "      <td>0</td>\n",
       "      <td>16.0</td>\n",
       "      <td>0</td>\n",
       "      <td>0004_01</td>\n",
       "      <td>1</td>\n",
       "    </tr>\n",
       "  </tbody>\n",
       "</table>\n",
       "</div>"
      ],
      "text/plain": [
       "   t1__remainder__tnf1__HomePlanet_Europa  \\\n",
       "0                                     1.0   \n",
       "1                                     0.0   \n",
       "2                                     1.0   \n",
       "3                                     1.0   \n",
       "4                                     0.0   \n",
       "\n",
       "   t1__remainder__tnf1__HomePlanet_Mars  \\\n",
       "0                                   0.0   \n",
       "1                                   0.0   \n",
       "2                                   0.0   \n",
       "3                                   0.0   \n",
       "4                                   0.0   \n",
       "\n",
       "   t2__remainder__tnf3__Destination_PSO J318.5-22  \\\n",
       "0                                             0.0   \n",
       "1                                             0.0   \n",
       "2                                             0.0   \n",
       "3                                             0.0   \n",
       "4                                             0.0   \n",
       "\n",
       "   t2__remainder__tnf3__Destination_TRAPPIST-1e  \\\n",
       "0                                           1.0   \n",
       "1                                           1.0   \n",
       "2                                           1.0   \n",
       "3                                           1.0   \n",
       "4                                           1.0   \n",
       "\n",
       "   remainder__tnf1__tnf6__RoomService  remainder__tnf2__tnf7__FoodCourt  \\\n",
       "0                            0.000000                          0.000000   \n",
       "1                            0.007608                          0.000302   \n",
       "2                            0.003001                          0.119948   \n",
       "3                            0.000000                          0.043035   \n",
       "4                            0.021149                          0.002348   \n",
       "\n",
       "   remainder__tnf3__tnf8__ShoppingMall  remainder__tnf4__tnf9__Spa  \\\n",
       "0                             0.000000                    0.000000   \n",
       "1                             0.001064                    0.024500   \n",
       "2                             0.000000                    0.299670   \n",
       "3                             0.015793                    0.148563   \n",
       "4                             0.006428                    0.025214   \n",
       "\n",
       "   remainder__tnf5__tnf10__VRDeck remainder__remainder__tnf2__CryoSleep  \\\n",
       "0                        0.000000                                     0   \n",
       "1                        0.001823                                     0   \n",
       "2                        0.002030                                     0   \n",
       "3                        0.007997                                     0   \n",
       "4                        0.000083                                     0   \n",
       "\n",
       "   remainder__remainder__tnf4__Age remainder__remainder__tnf5__VIP  \\\n",
       "0                             39.0                               0   \n",
       "1                             24.0                               0   \n",
       "2                             58.0                               1   \n",
       "3                             33.0                               0   \n",
       "4                             16.0                               0   \n",
       "\n",
       "  remainder__remainder__remainder__PassengerId  \\\n",
       "0                                      0001_01   \n",
       "1                                      0002_01   \n",
       "2                                      0003_01   \n",
       "3                                      0003_02   \n",
       "4                                      0004_01   \n",
       "\n",
       "   remainder__remainder__remainder__Transported  \n",
       "0                                             0  \n",
       "1                                             1  \n",
       "2                                             0  \n",
       "3                                             0  \n",
       "4                                             1  "
      ]
     },
     "execution_count": 103,
     "metadata": {},
     "output_type": "execute_result"
    }
   ],
   "source": [
    "train_trf.head()"
   ]
  },
  {
   "cell_type": "code",
   "execution_count": 104,
   "id": "3867ddb2",
   "metadata": {},
   "outputs": [],
   "source": [
    "train_trf.drop('remainder__remainder__remainder__PassengerId',axis=1,inplace=True)"
   ]
  },
  {
   "cell_type": "code",
   "execution_count": 106,
   "id": "224eebd3",
   "metadata": {},
   "outputs": [],
   "source": [
    "PassengerId = test_trf['remainder__remainder__remainder__PassengerId'].values"
   ]
  },
  {
   "cell_type": "code",
   "execution_count": 108,
   "id": "1f8df090",
   "metadata": {},
   "outputs": [],
   "source": [
    "test_trf.drop('remainder__remainder__remainder__PassengerId',axis=1,inplace=True)"
   ]
  },
  {
   "cell_type": "code",
   "execution_count": 109,
   "id": "445f03b4",
   "metadata": {},
   "outputs": [
    {
     "data": {
      "text/plain": [
       "(8693, 13)"
      ]
     },
     "execution_count": 109,
     "metadata": {},
     "output_type": "execute_result"
    }
   ],
   "source": [
    "train_trf.shape"
   ]
  },
  {
   "cell_type": "code",
   "execution_count": 110,
   "id": "a74af7e7",
   "metadata": {},
   "outputs": [
    {
     "data": {
      "text/plain": [
       "(4277, 12)"
      ]
     },
     "execution_count": 110,
     "metadata": {},
     "output_type": "execute_result"
    }
   ],
   "source": [
    "test_trf.shape"
   ]
  },
  {
   "cell_type": "code",
   "execution_count": 118,
   "id": "19f9f9b0",
   "metadata": {},
   "outputs": [
    {
     "name": "stdout",
     "output_type": "stream",
     "text": [
      "<class 'pandas.core.frame.DataFrame'>\n",
      "RangeIndex: 8693 entries, 0 to 8692\n",
      "Data columns (total 13 columns):\n",
      " #   Column                                          Non-Null Count  Dtype  \n",
      "---  ------                                          --------------  -----  \n",
      " 0   t1__remainder__tnf1__HomePlanet_Europa          8693 non-null   float64\n",
      " 1   t1__remainder__tnf1__HomePlanet_Mars            8693 non-null   float64\n",
      " 2   t2__remainder__tnf3__Destination_PSO J318.5-22  8693 non-null   float64\n",
      " 3   t2__remainder__tnf3__Destination_TRAPPIST-1e    8693 non-null   float64\n",
      " 4   remainder__tnf1__tnf6__RoomService              8693 non-null   float64\n",
      " 5   remainder__tnf2__tnf7__FoodCourt                8693 non-null   float64\n",
      " 6   remainder__tnf3__tnf8__ShoppingMall             8693 non-null   float64\n",
      " 7   remainder__tnf4__tnf9__Spa                      8693 non-null   float64\n",
      " 8   remainder__tnf5__tnf10__VRDeck                  8693 non-null   float64\n",
      " 9   remainder__remainder__tnf2__CryoSleep           8693 non-null   object \n",
      " 10  remainder__remainder__tnf4__Age                 8693 non-null   float64\n",
      " 11  remainder__remainder__tnf5__VIP                 8693 non-null   object \n",
      " 12  remainder__remainder__remainder__Transported    8693 non-null   int64  \n",
      "dtypes: float64(10), int64(1), object(2)\n",
      "memory usage: 883.0+ KB\n"
     ]
    }
   ],
   "source": [
    "train_trf.info()"
   ]
  },
  {
   "cell_type": "code",
   "execution_count": 120,
   "id": "8704d94c",
   "metadata": {},
   "outputs": [],
   "source": [
    "train_trf.rename(columns={'t1__remainder__tnf1__HomePlanet_Europa':'HomePlanet_Europa',\n",
    "                         't1__remainder__tnf1__HomePlanet_Mars':'HomePlanet_Mars',\n",
    "                         't2__remainder__tnf3__Destination_PSO J318.5-22':'Destination_PSO J318.5-22',\n",
    "                         't2__remainder__tnf3__Destination_TRAPPIST-1e':'Destination_TRAPPIST-1e',\n",
    "                         'remainder__tnf1__tnf6__RoomService':'RoomService',\n",
    "                         'remainder__tnf2__tnf7__FoodCourt':'FoodCourt',\n",
    "                         'remainder__tnf3__tnf8__ShoppingMall':'ShoppingMall',\n",
    "                         'remainder__tnf4__tnf9__Spa':'Spa',\n",
    "                         'remainder__tnf5__tnf10__VRDeck':'VRDeck',\n",
    "                         'remainder__remainder__tnf2__CryoSleep':'CryoSleep',\n",
    "                         'remainder__remainder__tnf4__Age':'Age',\n",
    "                         'remainder__remainder__tnf5__VIP':'VIP',\n",
    "                         'remainder__remainder__remainder__Transported':'Transported'},inplace=True)"
   ]
  },
  {
   "cell_type": "code",
   "execution_count": 121,
   "id": "5f05dbdd",
   "metadata": {},
   "outputs": [
    {
     "data": {
      "text/html": [
       "<div>\n",
       "<style scoped>\n",
       "    .dataframe tbody tr th:only-of-type {\n",
       "        vertical-align: middle;\n",
       "    }\n",
       "\n",
       "    .dataframe tbody tr th {\n",
       "        vertical-align: top;\n",
       "    }\n",
       "\n",
       "    .dataframe thead th {\n",
       "        text-align: right;\n",
       "    }\n",
       "</style>\n",
       "<table border=\"1\" class=\"dataframe\">\n",
       "  <thead>\n",
       "    <tr style=\"text-align: right;\">\n",
       "      <th></th>\n",
       "      <th>HomePlanet_Europa</th>\n",
       "      <th>HomePlanet_Mars</th>\n",
       "      <th>Destination_PSO J318.5-22</th>\n",
       "      <th>Destination_TRAPPIST-1e</th>\n",
       "      <th>RoomService</th>\n",
       "      <th>FoodCourt</th>\n",
       "      <th>ShoppingMall</th>\n",
       "      <th>Spa</th>\n",
       "      <th>VRDeck</th>\n",
       "      <th>CryoSleep</th>\n",
       "      <th>Age</th>\n",
       "      <th>VIP</th>\n",
       "      <th>Transported</th>\n",
       "    </tr>\n",
       "  </thead>\n",
       "  <tbody>\n",
       "    <tr>\n",
       "      <th>0</th>\n",
       "      <td>1.0</td>\n",
       "      <td>0.0</td>\n",
       "      <td>0.0</td>\n",
       "      <td>1.0</td>\n",
       "      <td>0.000000</td>\n",
       "      <td>0.000000</td>\n",
       "      <td>0.000000</td>\n",
       "      <td>0.000000</td>\n",
       "      <td>0.000000</td>\n",
       "      <td>0</td>\n",
       "      <td>39.0</td>\n",
       "      <td>0</td>\n",
       "      <td>0</td>\n",
       "    </tr>\n",
       "    <tr>\n",
       "      <th>1</th>\n",
       "      <td>0.0</td>\n",
       "      <td>0.0</td>\n",
       "      <td>0.0</td>\n",
       "      <td>1.0</td>\n",
       "      <td>0.007608</td>\n",
       "      <td>0.000302</td>\n",
       "      <td>0.001064</td>\n",
       "      <td>0.024500</td>\n",
       "      <td>0.001823</td>\n",
       "      <td>0</td>\n",
       "      <td>24.0</td>\n",
       "      <td>0</td>\n",
       "      <td>1</td>\n",
       "    </tr>\n",
       "    <tr>\n",
       "      <th>2</th>\n",
       "      <td>1.0</td>\n",
       "      <td>0.0</td>\n",
       "      <td>0.0</td>\n",
       "      <td>1.0</td>\n",
       "      <td>0.003001</td>\n",
       "      <td>0.119948</td>\n",
       "      <td>0.000000</td>\n",
       "      <td>0.299670</td>\n",
       "      <td>0.002030</td>\n",
       "      <td>0</td>\n",
       "      <td>58.0</td>\n",
       "      <td>1</td>\n",
       "      <td>0</td>\n",
       "    </tr>\n",
       "    <tr>\n",
       "      <th>3</th>\n",
       "      <td>1.0</td>\n",
       "      <td>0.0</td>\n",
       "      <td>0.0</td>\n",
       "      <td>1.0</td>\n",
       "      <td>0.000000</td>\n",
       "      <td>0.043035</td>\n",
       "      <td>0.015793</td>\n",
       "      <td>0.148563</td>\n",
       "      <td>0.007997</td>\n",
       "      <td>0</td>\n",
       "      <td>33.0</td>\n",
       "      <td>0</td>\n",
       "      <td>0</td>\n",
       "    </tr>\n",
       "    <tr>\n",
       "      <th>4</th>\n",
       "      <td>0.0</td>\n",
       "      <td>0.0</td>\n",
       "      <td>0.0</td>\n",
       "      <td>1.0</td>\n",
       "      <td>0.021149</td>\n",
       "      <td>0.002348</td>\n",
       "      <td>0.006428</td>\n",
       "      <td>0.025214</td>\n",
       "      <td>0.000083</td>\n",
       "      <td>0</td>\n",
       "      <td>16.0</td>\n",
       "      <td>0</td>\n",
       "      <td>1</td>\n",
       "    </tr>\n",
       "  </tbody>\n",
       "</table>\n",
       "</div>"
      ],
      "text/plain": [
       "   HomePlanet_Europa  HomePlanet_Mars  Destination_PSO J318.5-22  \\\n",
       "0                1.0              0.0                        0.0   \n",
       "1                0.0              0.0                        0.0   \n",
       "2                1.0              0.0                        0.0   \n",
       "3                1.0              0.0                        0.0   \n",
       "4                0.0              0.0                        0.0   \n",
       "\n",
       "   Destination_TRAPPIST-1e  RoomService  FoodCourt  ShoppingMall       Spa  \\\n",
       "0                      1.0     0.000000   0.000000      0.000000  0.000000   \n",
       "1                      1.0     0.007608   0.000302      0.001064  0.024500   \n",
       "2                      1.0     0.003001   0.119948      0.000000  0.299670   \n",
       "3                      1.0     0.000000   0.043035      0.015793  0.148563   \n",
       "4                      1.0     0.021149   0.002348      0.006428  0.025214   \n",
       "\n",
       "     VRDeck CryoSleep   Age VIP  Transported  \n",
       "0  0.000000         0  39.0   0            0  \n",
       "1  0.001823         0  24.0   0            1  \n",
       "2  0.002030         0  58.0   1            0  \n",
       "3  0.007997         0  33.0   0            0  \n",
       "4  0.000083         0  16.0   0            1  "
      ]
     },
     "execution_count": 121,
     "metadata": {},
     "output_type": "execute_result"
    }
   ],
   "source": [
    "train_trf.head()"
   ]
  },
  {
   "cell_type": "code",
   "execution_count": 122,
   "id": "f8646c8a",
   "metadata": {},
   "outputs": [],
   "source": [
    "test_trf.rename(columns={'t1__remainder__tnf1__HomePlanet_Europa':'HomePlanet_Europa',\n",
    "                         't1__remainder__tnf1__HomePlanet_Mars':'HomePlanet_Mars',\n",
    "                         't2__remainder__tnf3__Destination_PSO J318.5-22':'Destination_PSO J318.5-22',\n",
    "                         't2__remainder__tnf3__Destination_TRAPPIST-1e':'Destination_TRAPPIST-1e',\n",
    "                         'remainder__tnf1__tnf6__RoomService':'RoomService',\n",
    "                         'remainder__tnf2__tnf7__FoodCourt':'FoodCourt',\n",
    "                         'remainder__tnf3__tnf8__ShoppingMall':'ShoppingMall',\n",
    "                         'remainder__tnf4__tnf9__Spa':'Spa',\n",
    "                         'remainder__tnf5__tnf10__VRDeck':'VRDeck',\n",
    "                         'remainder__remainder__tnf2__CryoSleep':'CryoSleep',\n",
    "                         'remainder__remainder__tnf4__Age':'Age',\n",
    "                         'remainder__remainder__tnf5__VIP':'VIP'},inplace=True)"
   ]
  },
  {
   "cell_type": "code",
   "execution_count": 123,
   "id": "2808ff92",
   "metadata": {},
   "outputs": [
    {
     "data": {
      "text/html": [
       "<div>\n",
       "<style scoped>\n",
       "    .dataframe tbody tr th:only-of-type {\n",
       "        vertical-align: middle;\n",
       "    }\n",
       "\n",
       "    .dataframe tbody tr th {\n",
       "        vertical-align: top;\n",
       "    }\n",
       "\n",
       "    .dataframe thead th {\n",
       "        text-align: right;\n",
       "    }\n",
       "</style>\n",
       "<table border=\"1\" class=\"dataframe\">\n",
       "  <thead>\n",
       "    <tr style=\"text-align: right;\">\n",
       "      <th></th>\n",
       "      <th>HomePlanet_Europa</th>\n",
       "      <th>HomePlanet_Mars</th>\n",
       "      <th>Destination_PSO J318.5-22</th>\n",
       "      <th>Destination_TRAPPIST-1e</th>\n",
       "      <th>RoomService</th>\n",
       "      <th>FoodCourt</th>\n",
       "      <th>ShoppingMall</th>\n",
       "      <th>Spa</th>\n",
       "      <th>VRDeck</th>\n",
       "      <th>CryoSleep</th>\n",
       "      <th>Age</th>\n",
       "      <th>VIP</th>\n",
       "    </tr>\n",
       "  </thead>\n",
       "  <tbody>\n",
       "    <tr>\n",
       "      <th>0</th>\n",
       "      <td>0.0</td>\n",
       "      <td>0.0</td>\n",
       "      <td>0.0</td>\n",
       "      <td>1.0</td>\n",
       "      <td>0.000000</td>\n",
       "      <td>0.000000</td>\n",
       "      <td>0.00000</td>\n",
       "      <td>0.000000</td>\n",
       "      <td>0.000000</td>\n",
       "      <td>1</td>\n",
       "      <td>27.0</td>\n",
       "      <td>0</td>\n",
       "    </tr>\n",
       "    <tr>\n",
       "      <th>1</th>\n",
       "      <td>0.0</td>\n",
       "      <td>0.0</td>\n",
       "      <td>0.0</td>\n",
       "      <td>1.0</td>\n",
       "      <td>0.000000</td>\n",
       "      <td>0.000356</td>\n",
       "      <td>0.00000</td>\n",
       "      <td>0.142260</td>\n",
       "      <td>0.000000</td>\n",
       "      <td>0</td>\n",
       "      <td>19.0</td>\n",
       "      <td>0</td>\n",
       "    </tr>\n",
       "    <tr>\n",
       "      <th>2</th>\n",
       "      <td>1.0</td>\n",
       "      <td>0.0</td>\n",
       "      <td>0.0</td>\n",
       "      <td>0.0</td>\n",
       "      <td>0.000000</td>\n",
       "      <td>0.000000</td>\n",
       "      <td>0.00000</td>\n",
       "      <td>0.000000</td>\n",
       "      <td>0.000000</td>\n",
       "      <td>1</td>\n",
       "      <td>31.0</td>\n",
       "      <td>0</td>\n",
       "    </tr>\n",
       "    <tr>\n",
       "      <th>3</th>\n",
       "      <td>1.0</td>\n",
       "      <td>0.0</td>\n",
       "      <td>0.0</td>\n",
       "      <td>1.0</td>\n",
       "      <td>0.000000</td>\n",
       "      <td>0.263206</td>\n",
       "      <td>0.00000</td>\n",
       "      <td>0.009121</td>\n",
       "      <td>0.026266</td>\n",
       "      <td>0</td>\n",
       "      <td>38.0</td>\n",
       "      <td>0</td>\n",
       "    </tr>\n",
       "    <tr>\n",
       "      <th>4</th>\n",
       "      <td>0.0</td>\n",
       "      <td>0.0</td>\n",
       "      <td>0.0</td>\n",
       "      <td>1.0</td>\n",
       "      <td>0.000865</td>\n",
       "      <td>0.000000</td>\n",
       "      <td>0.07658</td>\n",
       "      <td>0.000000</td>\n",
       "      <td>0.000000</td>\n",
       "      <td>0</td>\n",
       "      <td>20.0</td>\n",
       "      <td>0</td>\n",
       "    </tr>\n",
       "  </tbody>\n",
       "</table>\n",
       "</div>"
      ],
      "text/plain": [
       "   HomePlanet_Europa  HomePlanet_Mars  Destination_PSO J318.5-22  \\\n",
       "0                0.0              0.0                        0.0   \n",
       "1                0.0              0.0                        0.0   \n",
       "2                1.0              0.0                        0.0   \n",
       "3                1.0              0.0                        0.0   \n",
       "4                0.0              0.0                        0.0   \n",
       "\n",
       "   Destination_TRAPPIST-1e  RoomService  FoodCourt  ShoppingMall       Spa  \\\n",
       "0                      1.0     0.000000   0.000000       0.00000  0.000000   \n",
       "1                      1.0     0.000000   0.000356       0.00000  0.142260   \n",
       "2                      0.0     0.000000   0.000000       0.00000  0.000000   \n",
       "3                      1.0     0.000000   0.263206       0.00000  0.009121   \n",
       "4                      1.0     0.000865   0.000000       0.07658  0.000000   \n",
       "\n",
       "     VRDeck CryoSleep   Age VIP  \n",
       "0  0.000000         1  27.0   0  \n",
       "1  0.000000         0  19.0   0  \n",
       "2  0.000000         1  31.0   0  \n",
       "3  0.026266         0  38.0   0  \n",
       "4  0.000000         0  20.0   0  "
      ]
     },
     "execution_count": 123,
     "metadata": {},
     "output_type": "execute_result"
    }
   ],
   "source": [
    "test_trf.head()"
   ]
  },
  {
   "cell_type": "markdown",
   "id": "bdb544b0",
   "metadata": {},
   "source": [
    "## Modeling"
   ]
  },
  {
   "cell_type": "code",
   "execution_count": 124,
   "id": "67645773",
   "metadata": {},
   "outputs": [],
   "source": [
    "x = train_trf.drop('Transported',axis=1).values\n",
    "y = train_trf['Transported'].values"
   ]
  },
  {
   "cell_type": "code",
   "execution_count": null,
   "id": "25a7968a",
   "metadata": {},
   "outputs": [],
   "source": []
  }
 ],
 "metadata": {
  "kernelspec": {
   "display_name": "Python 3 (ipykernel)",
   "language": "python",
   "name": "python3"
  },
  "language_info": {
   "codemirror_mode": {
    "name": "ipython",
    "version": 3
   },
   "file_extension": ".py",
   "mimetype": "text/x-python",
   "name": "python",
   "nbconvert_exporter": "python",
   "pygments_lexer": "ipython3",
   "version": "3.10.9"
  }
 },
 "nbformat": 4,
 "nbformat_minor": 5
}
